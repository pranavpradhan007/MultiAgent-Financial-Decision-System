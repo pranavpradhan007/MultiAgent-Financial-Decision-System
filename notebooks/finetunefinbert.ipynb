{
 "cells": [
  {
   "cell_type": "code",
   "execution_count": 1,
   "id": "de7f1c8c-d8aa-49a3-8de1-78a433487b0c",
   "metadata": {},
   "outputs": [],
   "source": [
    "import pandas as pd\n",
    "from sklearn.model_selection import train_test_split\n",
    "\n",
    "# Load the dataset with the correct encoding and no headers\n",
    "df = pd.read_csv(\"all-data.csv\", encoding='cp1252', header=None)\n",
    "\n",
    "# Map text labels to numeric\n",
    "label_map = {\"positive\": 2, \"neutral\": 1, \"negative\": 0}\n",
    "df[0] = df[0].map(label_map)\n",
    "\n",
    "# Split into train and test sets\n",
    "train_texts, test_texts, train_labels, test_labels = train_test_split(\n",
    "    df[1].tolist(),  # Sentences are in the second column (index 1)\n",
    "    df[0].tolist(),  # Labels are in the first column (index 0)\n",
    "    test_size=0.2,\n",
    "    random_state=42,\n",
    "    stratify=df[0]\n",
    ")"
   ]
  },
  {
   "cell_type": "code",
   "execution_count": 2,
   "id": "fd839075-6d3d-45c3-9b59-fc4ce2be679b",
   "metadata": {},
   "outputs": [
    {
     "name": "stderr",
     "output_type": "stream",
     "text": [
      "2025-03-28 14:41:46.981911: I tensorflow/core/util/port.cc:153] oneDNN custom operations are on. You may see slightly different numerical results due to floating-point round-off errors from different computation orders. To turn them off, set the environment variable `TF_ENABLE_ONEDNN_OPTS=0`.\n",
      "2025-03-28 14:41:46.999299: E external/local_xla/xla/stream_executor/cuda/cuda_fft.cc:467] Unable to register cuFFT factory: Attempting to register factory for plugin cuFFT when one has already been registered\n",
      "WARNING: All log messages before absl::InitializeLog() is called are written to STDERR\n",
      "E0000 00:00:1743187307.023030    7325 cuda_dnn.cc:8579] Unable to register cuDNN factory: Attempting to register factory for plugin cuDNN when one has already been registered\n",
      "E0000 00:00:1743187307.030250    7325 cuda_blas.cc:1407] Unable to register cuBLAS factory: Attempting to register factory for plugin cuBLAS when one has already been registered\n",
      "W0000 00:00:1743187307.048011    7325 computation_placer.cc:177] computation placer already registered. Please check linkage and avoid linking the same target more than once.\n",
      "W0000 00:00:1743187307.048036    7325 computation_placer.cc:177] computation placer already registered. Please check linkage and avoid linking the same target more than once.\n",
      "W0000 00:00:1743187307.048038    7325 computation_placer.cc:177] computation placer already registered. Please check linkage and avoid linking the same target more than once.\n",
      "W0000 00:00:1743187307.048040    7325 computation_placer.cc:177] computation placer already registered. Please check linkage and avoid linking the same target more than once.\n",
      "2025-03-28 14:41:47.053427: I tensorflow/core/platform/cpu_feature_guard.cc:210] This TensorFlow binary is optimized to use available CPU instructions in performance-critical operations.\n",
      "To enable the following instructions: AVX2 AVX512F AVX512_VNNI FMA, in other operations, rebuild TensorFlow with the appropriate compiler flags.\n"
     ]
    },
    {
     "data": {
      "application/vnd.jupyter.widget-view+json": {
       "model_id": "88801bdc494e4e4690a8becf1b1e6e6d",
       "version_major": 2,
       "version_minor": 0
      },
      "text/plain": [
       "Fetching 9 files:   0%|          | 0/9 [00:00<?, ?it/s]"
      ]
     },
     "metadata": {},
     "output_type": "display_data"
    }
   ],
   "source": [
    "# First install dependencies in your environment:\n",
    "# pip install transformers torch datasets huggingface_hub\n",
    "# Then restart your kernel\n",
    "\n",
    "from news_sentiment import NewsSentimentAgent\n",
    "from huggingface_hub import snapshot_download\n",
    "\n",
    "# Download model files first\n",
    "model_path = snapshot_download(repo_id=\"ProsusAI/finbert\")\n",
    "\n",
    "# Initialize the agent with explicit model path\n",
    "news_agent = NewsSentimentAgent(\n",
    "    model_path=model_path,\n",
    "    use_cached=False  # Force fresh download\n",
    ")\n",
    "\n",
    "# Then proceed with training as before..."
   ]
  },
  {
   "cell_type": "code",
   "execution_count": null,
   "id": "14eba1ed-fcb1-449e-95ef-59848cdd09a7",
   "metadata": {},
   "outputs": [
    {
     "name": "stderr",
     "output_type": "stream",
     "text": [
      "/home/pp3051/.local/lib/python3.9/site-packages/transformers/training_args.py:1611: FutureWarning: `evaluation_strategy` is deprecated and will be removed in version 4.46 of 🤗 Transformers. Use `eval_strategy` instead\n",
      "  warnings.warn(\n"
     ]
    },
    {
     "data": {
      "text/html": [
       "\n",
       "    <div>\n",
       "      \n",
       "      <progress value='244' max='729' style='width:300px; height:20px; vertical-align: middle;'></progress>\n",
       "      [244/729 00:24 < 00:49, 9.71 it/s, Epoch 1/3]\n",
       "    </div>\n",
       "    <table border=\"1\" class=\"dataframe\">\n",
       "  <thead>\n",
       " <tr style=\"text-align: left;\">\n",
       "      <th>Epoch</th>\n",
       "      <th>Training Loss</th>\n",
       "      <th>Validation Loss</th>\n",
       "      <th>Accuracy</th>\n",
       "    </tr>\n",
       "  </thead>\n",
       "  <tbody>\n",
       "    <tr>\n",
       "      <td>1</td>\n",
       "      <td>No log</td>\n",
       "      <td>0.447606</td>\n",
       "      <td>0.829897</td>\n",
       "    </tr>\n",
       "  </tbody>\n",
       "</table><p>"
      ],
      "text/plain": [
       "<IPython.core.display.HTML object>"
      ]
     },
     "metadata": {},
     "output_type": "display_data"
    }
   ],
   "source": [
    "# from news_sentiment import NewsSentimentAgent\n",
    "\n",
    "# # Initialize the agent\n",
    "# news_agent = NewsSentimentAgent()\n",
    "\n",
    "# Fine-tune the model\n",
    "metrics = news_agent.train(\n",
    "    train_texts=train_texts,\n",
    "    train_labels=train_labels,\n",
    "    test_texts=test_texts,\n",
    "    test_labels=test_labels,\n",
    "    epochs=3,\n",
    "    batch_size=16,\n",
    "    learning_rate=2e-5\n",
    ")\n",
    "\n",
    "print(f\"Training metrics: {metrics}\")\n"
   ]
  },
  {
   "cell_type": "code",
   "execution_count": null,
   "id": "aa6e4657-361a-4c36-90b9-b934b25dc7ca",
   "metadata": {},
   "outputs": [],
   "source": []
  }
 ],
 "metadata": {
  "kernelspec": {
   "display_name": "Python 3 (ipykernel)",
   "language": "python",
   "name": "python3"
  },
  "language_info": {
   "codemirror_mode": {
    "name": "ipython",
    "version": 3
   },
   "file_extension": ".py",
   "mimetype": "text/x-python",
   "name": "python",
   "nbconvert_exporter": "python",
   "pygments_lexer": "ipython3",
   "version": "3.9.18"
  }
 },
 "nbformat": 4,
 "nbformat_minor": 5
}
